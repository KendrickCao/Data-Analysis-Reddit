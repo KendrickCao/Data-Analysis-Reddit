{
 "cells": [
  {
   "attachments": {},
   "cell_type": "markdown",
   "metadata": {},
   "source": [
    "# Part 1: DATA MODELING"
   ]
  },
  {
   "attachments": {},
   "cell_type": "markdown",
   "metadata": {},
   "source": [
    "Implement an algorithm that reads a csv data dump from Reddit and creates a database (relational or non-relational), taking into account the different entities and relationships holding between them. With this database in place, implement queries for generating reports about the dataset."
   ]
  },
  {
   "cell_type": "markdown",
   "metadata": {
    "tags": []
   },
   "source": [
    "### Starter code for loading the csv file and connecting to database"
   ]
  },
  {
   "cell_type": "code",
   "execution_count": 41,
   "metadata": {},
   "outputs": [],
   "source": [
    "import numpy as np\n",
    "import pandas as pd\n",
    "\n",
    "data_path = 'data_reddit.csv'\n",
    "df_reddit = pd.read_csv(data_path,converters={'selftext' : str})    # Put converters here because column of selftext has value of null. but pandas will convert it to NaN"
   ]
  },
  {
   "attachments": {},
   "cell_type": "markdown",
   "metadata": {},
   "source": [
    "Connect to the MySQL server"
   ]
  },
  {
   "cell_type": "code",
   "execution_count": 42,
   "metadata": {},
   "outputs": [],
   "source": [
    "import pymysql\n",
    "\n",
    "# Connect to the database\n",
    "connection = pymysql.connect(host='localhost:8000',\n",
    "                             user='user',\n",
    "                             password='host',\n",
    "                             database='database',\n",
    "                             charset='utf8mb4')"
   ]
  },
  {
   "cell_type": "markdown",
   "metadata": {},
   "source": [
    "---"
   ]
  },
  {
   "attachments": {},
   "cell_type": "markdown",
   "metadata": {},
   "source": [
    "### SQL and Python code for creating the tables"
   ]
  },
  {
   "cell_type": "code",
   "execution_count": 43,
   "metadata": {},
   "outputs": [],
   "source": [
    "with connection.cursor() as cur:\n",
    "    q = \"\"\"\n",
    "            DROP TABLE IF EXISTS post,subreddit,user;\n",
    "    \"\"\"\n",
    "    cur.execute(q)\n",
    "    connection.commit()\n",
    "\n",
    "with connection.cursor() as cur:\n",
    "    q = \"\"\"\n",
    "        CREATE TABLE subreddit(\n",
    "        subreddit_id int NOT NULL AUTO_INCREMENT,\n",
    "        subreddit_name varchar(21) UNIQUE,\n",
    "        subr_created_at datetime,\n",
    "        subr_description varchar(500),\n",
    "        subr_faved_by text,\n",
    "        subr_numb_members int,\n",
    "        subr_numb_posts bigint,\n",
    "        CONSTRAINT subreddit_PK PRIMARY KEY (subreddit_id)\n",
    "        )DEFAULT CHARACTER SET utf8mb4 COLLATE utf8mb4_unicode_ci;\n",
    "    \"\"\"\n",
    "    cur.execute(q)\n",
    "    connection.commit()\n",
    "\n",
    "with connection.cursor() as cur:\n",
    "    q = \"\"\"\n",
    "        CREATE TABLE user(\n",
    "        user_id int NOT NULL AUTO_INCREMENT,\n",
    "        user_name varchar(25) UNIQUE,\n",
    "        user_num_posts int,\n",
    "        user_registered_at datetime,\n",
    "        user_upvote_ratio float(10,9),           \n",
    "        CONSTRAINT user_PK PRIMARY KEY (user_id)\n",
    "        )DEFAULT CHARACTER SET utf8mb4 COLLATE utf8mb4_unicode_ci;\n",
    "    \"\"\"\n",
    "    cur.execute(q)\n",
    "    connection.commit()\n",
    "\n",
    "with connection.cursor() as cur:\n",
    "    q = \"\"\"\n",
    "        CREATE TABLE post(\n",
    "        post_id int NOT NULL AUTO_INCREMENT,\n",
    "        user_name varchar(25),\n",
    "        posted_at datetime,\n",
    "        num_comments int,\n",
    "        score int,\n",
    "        selftext text,\n",
    "        subreddit_name varchar(21),\n",
    "        title varchar(400),\n",
    "        total_awards_received int,\n",
    "        upvote_ratio float(3,2),           \n",
    "        CONSTRAINT post_PK PRIMARY KEY (post_id),\n",
    "        CONSTRAINT FK_subreddit FOREIGN KEY (subreddit_name) REFERENCES subreddit(subreddit_name),\n",
    "        CONSTRAINT FK_user FOREIGN KEY (user_name) REFERENCES user(user_name)\n",
    "        )DEFAULT CHARACTER SET utf8mb4 COLLATE utf8mb4_unicode_ci;\n",
    "    \"\"\"\n",
    "    cur.execute(q)\n",
    "    connection.commit()"
   ]
  },
  {
   "attachments": {},
   "cell_type": "markdown",
   "metadata": {},
   "source": [
    "### Python logic for reading in the data"
   ]
  },
  {
   "cell_type": "code",
   "execution_count": 44,
   "metadata": {},
   "outputs": [],
   "source": [
    "df_tmp=df_reddit[['user_registered_at','user_upvote_ratio']].dropna()   # get the last two colums\n",
    "\n",
    "df_reddit.drop(labels=['user_registered_at','user_upvote_ratio'],axis=1,inplace=True)   # remove last two colums\n",
    "df_reddit.dropna(thresh=5,inplace=True)    # delete row if less than 5 non-empty value in this row.\n",
    "df_reddit.reset_index(drop=True, inplace=True)  # reset the index after droping many rows\n",
    "\n",
    "df_reddit=pd.concat([df_reddit,df_tmp],axis=1)  # splice two dataframe \n",
    "\n",
    "df_reddit['subr_created_at']=pd.to_datetime(df_reddit['subr_created_at'],format='%d/%m/%Y')     # format these columns to datetime which is valid in database\n",
    "df_reddit['user_registered_at']=pd.to_datetime(df_reddit['user_registered_at'],format='%d/%m/%Y') \n",
    "df_reddit['posted_at']=pd.to_datetime(df_reddit['posted_at']) \n",
    "\n",
    "df_reddit.fillna(0.0,inplace=True)     # fill the rest of na with 0.0 such as ratio\n",
    "\n",
    "# filter and drop duplicate rows then assign to 3 dataframe which maps 3 entities\n",
    "df_user=df_reddit[['author','user_num_posts','user_registered_at','user_upvote_ratio']].drop_duplicates(subset=['author'],keep='last')\n",
    "df_post=df_reddit[['author','posted_at','num_comments','score','selftext','subreddit','title','total_awards_received','upvote_ratio']].drop_duplicates()\n",
    "df_subreddit=df_reddit[['subreddit','subr_created_at','subr_description','subr_faved_by','subr_numb_members','subr_numb_posts']].drop_duplicates(subset=['subreddit'])\n",
    "\n",
    "# Change dataframe to list for inserting database. Actually Pandas can directly use .to_sql()\n",
    "subreddit_list=df_subreddit.values.tolist()\n",
    "user_list=df_user.values.tolist()\n",
    "post_list=df_post.values.tolist()"
   ]
  },
  {
   "attachments": {},
   "cell_type": "markdown",
   "metadata": {},
   "source": [
    "### SQL and Python code for populating the tables"
   ]
  },
  {
   "cell_type": "code",
   "execution_count": 45,
   "metadata": {},
   "outputs": [],
   "source": [
    "try:   \n",
    "    with connection.cursor() as cur:\n",
    "        q = \"\"\"\n",
    "                INSERT INTO user(user_name,user_num_posts,user_registered_at,user_upvote_ratio) VALUES (%s, %s,%s, %s)\n",
    "        \"\"\"\n",
    "        cur.executemany(q, user_list)\n",
    "        connection.commit()\n",
    "\n",
    "    with connection.cursor() as cur:\n",
    "        q = \"\"\"\n",
    "                INSERT INTO subreddit(subreddit_name,subr_created_at,subr_description,subr_faved_by,subr_numb_members,subr_numb_posts) VALUES (%s, %s, %s, %s, %s, %s)\n",
    "        \"\"\"\n",
    "        cur.executemany(q, subreddit_list)\n",
    "        connection.commit()\n",
    "\n",
    "    with connection.cursor() as cur:\n",
    "        q = \"\"\"\n",
    "                INSERT INTO post(user_name,posted_at,num_comments,score,selftext,subreddit_name,title,total_awards_received,upvote_ratio) VALUES (%s, %s, %s, %s, %s, %s,%s, %s, %s)\n",
    "        \"\"\"\n",
    "        cur.executemany(q, post_list)\n",
    "        connection.commit()\n",
    "finally:\n",
    "    connection.close()"
   ]
  }
 ],
 "metadata": {
  "kernelspec": {
   "display_name": "pyenv",
   "language": "python",
   "name": "pyenv"
  },
  "language_info": {
   "codemirror_mode": {
    "name": "ipython",
    "version": 3
   },
   "file_extension": ".py",
   "mimetype": "text/x-python",
   "name": "python",
   "nbconvert_exporter": "python",
   "pygments_lexer": "ipython3",
   "version": "3.9.6"
  }
 },
 "nbformat": 4,
 "nbformat_minor": 4
}
